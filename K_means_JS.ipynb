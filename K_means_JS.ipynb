{
 "cells": [
  {
   "cell_type": "markdown",
   "id": "564dcb4a",
   "metadata": {},
   "source": [
    "# Clustering Analysis Report\n",
    "\n",
    "### Introduction\n",
    "In this assignment, we aim to cluster three documents of words using the K-Means clustering algorithm with Jaccard Similarity after implementing the algorithm from scratch. Further, we optimised number of clusters using elbow curves.\n",
    "\n",
    "### Data Representation\n",
    "- We load the data and made a tuple of tuples for each text collection , that is `points_list`.\n",
    "- We referring each 'documents' as a 'points'.\n",
    "- Each document is represented as a tuple of wordID in that document.\n",
    "\n",
    "### Implementing Algorithm\n",
    "- We have implemented the algorithm using different helper functions in 4 steps: \n",
    "\n",
    "\n",
    "**STEP 1: Creating initial centroids**\n",
    "  -  `create_initial_centroids`: Randomly select k points from `points_list` as initial centroids and returns `centroids_list` which is list of centroids\n",
    "\n",
    "**STEP 2: Labelling points**\n",
    "  - `assign_labels`: This function first calculate the jaccard similarity of each point with each centroid and assigns the point to the nearest centroid based on maximum jaccard similarity. And it return `label_list`, which contains corresponding labels of element in `point_list`.\n",
    "\n",
    "**STEP 3: Ajdusting centroids**\n",
    "  - `label_wise_word_frequency`: This function computes the frequencies of each `WordId` within a cluster and returns `frequencies`.\n",
    "  - `adjust_centroids`: For a particular cluster only those wordIds are added to the list of centroid which have a frequency more than the desired threshold.\n",
    "  - We handles a case in if a centroid  don't have any wordIds then taking a point from the cluster as centroid\n",
    "\n",
    "**STEP 4: Defining `KMeansClustering`**\n",
    "- This function starts with initial centroids, then iteratively assigns labels and adjust centroids until average Jaccard similarity converges and it returns `label_list`, `centroid_list`, `similarity_score` and `epochs`:\n",
    "- `epochs` is not a hyperparameter, it just return the no. of step taken by th ealgorithm to converge.\n",
    "- **Hyperparameters**:\n",
    "  - `k_clusters` is number of clusters\n",
    "  - `alpha` is threshold for minimum increament in average similarity score after each epoch.\n",
    "  - `threshold` is threshold for minimum fraction of documents within a cluster having a particular word, to include that word in the cluster.\n",
    "  - `n_init` is number of times is run with different initial centroids\n",
    "\n",
    "### Elbow Curve Analysis.\n",
    "We plotted and visualized the elbow curves for different number of clusters and different values of `threshold`.\n",
    "Further, interpreted the optimal number of clusters.\n",
    "\n",
    "### Results \n",
    "The curves don't show a clear point where they start leveling off, which makes it hard to decide how many clusters are optimum.\n",
    "\n",
    "For `docword.enron.txt`:\n",
    "- Hyperparameters: k = 6 with frequency threshold 0.09\n",
    "- Time taken: 19.9 sec for n_init = 3\n",
    "- Average similarity score: 0.076375\n",
    "\n",
    "For `docword.nips.txt`:\n",
    "- Hyperparameters: k = 7 with frequency threshold 0.2\n",
    "- Time taken: 5.5 sec for n_init = 4\n",
    "- Average similarity score: 0.25749905\n",
    "\n",
    "For `docword.cos.txt`:\n",
    "- Hyperparameters: k = 3 with frequency threshold 0.12\n",
    "- Time taken: 8.1 sec for n_init = 4\n",
    "- Average similarity score: 0.132018\n"
   ]
  },
  {
   "cell_type": "code",
   "execution_count": null,
   "id": "760a3b73",
   "metadata": {},
   "outputs": [],
   "source": []
  }
 ],
 "metadata": {
  "kernelspec": {
   "display_name": "Python 3 (ipykernel)",
   "language": "python",
   "name": "python3"
  },
  "language_info": {
   "codemirror_mode": {
    "name": "ipython",
    "version": 3
   },
   "file_extension": ".py",
   "mimetype": "text/x-python",
   "name": "python",
   "nbconvert_exporter": "python",
   "pygments_lexer": "ipython3",
   "version": "3.9.12"
  }
 },
 "nbformat": 4,
 "nbformat_minor": 5
}
